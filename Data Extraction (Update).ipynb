{
 "cells": [
  {
   "cell_type": "markdown",
   "id": "68d55102",
   "metadata": {},
   "source": [
    "# Part I: Data Extraction"
   ]
  },
  {
   "cell_type": "code",
   "execution_count": 1,
   "id": "e901ea24",
   "metadata": {},
   "outputs": [],
   "source": [
    "import praw\n",
    "import pandas as pd\n",
    "import time"
   ]
  },
  {
   "cell_type": "code",
   "execution_count": 2,
   "id": "90e82427",
   "metadata": {},
   "outputs": [],
   "source": [
    "def data_fetch(sub_red_lst = \"Jobs\", limit = 1000, time_filter = \"all\"):\n",
    "    reddit = praw.Reddit(client_id=\"HB-6S3t-mU0H4JnFryAcAA\", \n",
    "                         client_secret=\"iOPDBfwO35IWt4Wd3lbPTbKbZlS0DQ\",\n",
    "                         redirect_uri=\"http://localhost:8080\", \n",
    "                         user_agent=\"Poliscimania\")\n",
    "    \n",
    "    data = reddit.subreddit(sub_red_lst).top(time_filter = time_filter, limit = limit)\n",
    "    \n",
    "    update_data = []\n",
    "    \n",
    "    for d in data:\n",
    "        d_data = {\n",
    "            \"ID\": d.id,\n",
    "            \"Subreddit\": str(d.subreddit),\n",
    "            \"Title\": d.title,\n",
    "            \"Upvote\": d.upvote_ratio,\n",
    "            \"Score\": d.score,\n",
    "            \"Nums of Comment\": d.num_comments\n",
    "        }\n",
    "        \n",
    "        # Fetch post comments for sub-reddit posts\n",
    "        posts = reddit.submission(d.id)\n",
    "        \n",
    "        count = 0\n",
    "        \n",
    "        while count < 0:\n",
    "            try:\n",
    "                posts.comments.replace_more(limit = None)\n",
    "                break\n",
    "            except praw.exceptions.RequestException:\n",
    "                count += 1\n",
    "                time.speel(5 * count)\n",
    "        \n",
    "        for c in posts.comments.list():\n",
    "            if isinstance(c, praw.models.MoreComments):\n",
    "                continue\n",
    "            d_data[\"UserID\"] = str(c.author)\n",
    "            d_data[\"Comment\"] = c.body\n",
    "            update_data.append(d_data.copy())\n",
    "            \n",
    "            time.sleep(2)\n",
    "            \n",
    "    return pd.DataFrame(update_data)"
   ]
  },
  {
   "cell_type": "markdown",
   "id": "772ff4cd",
   "metadata": {},
   "source": [
    "# Part II: Get Data into DataFrame"
   ]
  },
  {
   "cell_type": "code",
   "execution_count": null,
   "id": "f0c12691",
   "metadata": {},
   "outputs": [],
   "source": [
    "data = data_fetch(sub_red_lst = \"cscareerquestions+Jobs\", \n",
    "                                             limit = 2000, \n",
    "                                             time_filter = \"all\")"
   ]
  },
  {
   "cell_type": "markdown",
   "id": "694e74e6",
   "metadata": {},
   "source": [
    "# Part III: Export to CSV File"
   ]
  },
  {
   "cell_type": "code",
   "execution_count": null,
   "id": "52bc4201",
   "metadata": {},
   "outputs": [],
   "source": [
    "data.to_csv(\"DATA.csv\", header=True, index=False)"
   ]
  }
 ],
 "metadata": {
  "kernelspec": {
   "display_name": "Python 3 (ipykernel)",
   "language": "python",
   "name": "python3"
  },
  "language_info": {
   "codemirror_mode": {
    "name": "ipython",
    "version": 3
   },
   "file_extension": ".py",
   "mimetype": "text/x-python",
   "name": "python",
   "nbconvert_exporter": "python",
   "pygments_lexer": "ipython3",
   "version": "3.10.9"
  }
 },
 "nbformat": 4,
 "nbformat_minor": 5
}
