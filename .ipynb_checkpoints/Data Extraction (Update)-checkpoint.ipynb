{
 "cells": [
  {
   "cell_type": "markdown",
   "id": "d9916920",
   "metadata": {},
   "source": [
    "# Part I: Data Extraction"
   ]
  },
  {
   "cell_type": "code",
   "execution_count": 2,
   "id": "3ef41df8",
   "metadata": {},
   "outputs": [],
   "source": [
    "import praw\n",
    "import pandas as pd"
   ]
  },
  {
   "cell_type": "code",
   "execution_count": 5,
   "id": "93733c9d",
   "metadata": {},
   "outputs": [],
   "source": [
    "def data_fetch(sub_red_lst = \"Jobs\", limit = 1000, time_filter = \"all\"):\n",
    "    reddit = praw.Reddit(client_id=\"HB-6S3t-mU0H4JnFryAcAA\", \n",
    "                         client_secret=\"iOPDBfwO35IWt4Wd3lbPTbKbZlS0DQ\",\n",
    "                         redirect_uri=\"http://localhost:8080\", \n",
    "                         user_agent=\"Poliscimania\")\n",
    "    \n",
    "    data = reddit.subreddit(sub_red_lst).top(time_filter = time_filter, limit = limit)\n",
    "    \n",
    "    update_data = []\n",
    "    \n",
    "    for d in data:\n",
    "        d_data = {\n",
    "            \"ID\": d.id,\n",
    "            \"Subreddit\": str(d.subreddit),\n",
    "            \"Title\": d.title,\n",
    "            \"Upvote\": d.upvote_ratio,\n",
    "            \"Score\": d.score,\n",
    "            \"Nums of Comment\": d.num_comments\n",
    "        }\n",
    "        \n",
    "        # Fetch post comments for sub-reddit posts\n",
    "        \n",
    "        posts = reddit.submission(d.id)\n",
    "        posts.comments.replace_more(limit = None)\n",
    "        \n",
    "        for c in posts.comment.list():\n",
    "            d_data[\"UserID\"] = str(c.author)\n",
    "            d_data[\"Comment\"] = c.body\n",
    "            update_data.append(d_data.copy())\n",
    "            \n",
    "    return pd.DataFrame(update_data)"
   ]
  },
  {
   "cell_type": "markdown",
   "id": "9b491c35",
   "metadata": {},
   "source": [
    "# Part II: Get Data into DataFrame"
   ]
  },
  {
   "cell_type": "code",
   "execution_count": 6,
   "id": "5d608b35",
   "metadata": {},
   "outputs": [
    {
     "ename": "AttributeError",
     "evalue": "'Submission' object has no attribute 'comment'",
     "output_type": "error",
     "traceback": [
      "\u001b[0;31m---------------------------------------------------------------------------\u001b[0m",
      "\u001b[0;31mAttributeError\u001b[0m                            Traceback (most recent call last)",
      "Cell \u001b[0;32mIn[6], line 1\u001b[0m\n\u001b[0;32m----> 1\u001b[0m data \u001b[38;5;241m=\u001b[39m \u001b[43mdata_fetch\u001b[49m\u001b[43m(\u001b[49m\u001b[43msub_red_lst\u001b[49m\u001b[43m \u001b[49m\u001b[38;5;241;43m=\u001b[39;49m\u001b[43m \u001b[49m\u001b[38;5;124;43m\"\u001b[39;49m\u001b[38;5;124;43mcscareerquestions+Jobs\u001b[39;49m\u001b[38;5;124;43m\"\u001b[39;49m\u001b[43m,\u001b[49m\u001b[43m \u001b[49m\n\u001b[1;32m      2\u001b[0m \u001b[43m                                             \u001b[49m\u001b[43mlimit\u001b[49m\u001b[43m \u001b[49m\u001b[38;5;241;43m=\u001b[39;49m\u001b[43m \u001b[49m\u001b[38;5;241;43m2000\u001b[39;49m\u001b[43m,\u001b[49m\u001b[43m \u001b[49m\n\u001b[1;32m      3\u001b[0m \u001b[43m                                             \u001b[49m\u001b[43mtime_filter\u001b[49m\u001b[43m \u001b[49m\u001b[38;5;241;43m=\u001b[39;49m\u001b[43m \u001b[49m\u001b[38;5;124;43m\"\u001b[39;49m\u001b[38;5;124;43mall\u001b[39;49m\u001b[38;5;124;43m\"\u001b[39;49m\u001b[43m)\u001b[49m\n",
      "Cell \u001b[0;32mIn[5], line 26\u001b[0m, in \u001b[0;36mdata_fetch\u001b[0;34m(sub_red_lst, limit, time_filter)\u001b[0m\n\u001b[1;32m     23\u001b[0m posts \u001b[38;5;241m=\u001b[39m reddit\u001b[38;5;241m.\u001b[39msubmission(d\u001b[38;5;241m.\u001b[39mid)\n\u001b[1;32m     24\u001b[0m posts\u001b[38;5;241m.\u001b[39mcomments\u001b[38;5;241m.\u001b[39mreplace_more(limit \u001b[38;5;241m=\u001b[39m \u001b[38;5;28;01mNone\u001b[39;00m)\n\u001b[0;32m---> 26\u001b[0m \u001b[38;5;28;01mfor\u001b[39;00m c \u001b[38;5;129;01min\u001b[39;00m \u001b[43mposts\u001b[49m\u001b[38;5;241;43m.\u001b[39;49m\u001b[43mcomment\u001b[49m\u001b[38;5;241m.\u001b[39mlist():\n\u001b[1;32m     27\u001b[0m     d_data[\u001b[38;5;124m\"\u001b[39m\u001b[38;5;124mUserID\u001b[39m\u001b[38;5;124m\"\u001b[39m] \u001b[38;5;241m=\u001b[39m \u001b[38;5;28mstr\u001b[39m(c\u001b[38;5;241m.\u001b[39mauthor)\n\u001b[1;32m     28\u001b[0m     d_data[\u001b[38;5;124m\"\u001b[39m\u001b[38;5;124mComment\u001b[39m\u001b[38;5;124m\"\u001b[39m] \u001b[38;5;241m=\u001b[39m c\u001b[38;5;241m.\u001b[39mbody\n",
      "File \u001b[0;32m~/anaconda3/lib/python3.10/site-packages/praw/models/reddit/base.py:37\u001b[0m, in \u001b[0;36mRedditBase.__getattr__\u001b[0;34m(self, attribute)\u001b[0m\n\u001b[1;32m     35\u001b[0m     \u001b[38;5;28mself\u001b[39m\u001b[38;5;241m.\u001b[39m_fetch()\n\u001b[1;32m     36\u001b[0m     \u001b[38;5;28;01mreturn\u001b[39;00m \u001b[38;5;28mgetattr\u001b[39m(\u001b[38;5;28mself\u001b[39m, attribute)\n\u001b[0;32m---> 37\u001b[0m \u001b[38;5;28;01mraise\u001b[39;00m \u001b[38;5;167;01mAttributeError\u001b[39;00m(\n\u001b[1;32m     38\u001b[0m     \u001b[38;5;124mf\u001b[39m\u001b[38;5;124m\"\u001b[39m\u001b[38;5;132;01m{\u001b[39;00m\u001b[38;5;28mself\u001b[39m\u001b[38;5;241m.\u001b[39m\u001b[38;5;18m__class__\u001b[39m\u001b[38;5;241m.\u001b[39m\u001b[38;5;18m__name__\u001b[39m\u001b[38;5;132;01m!r}\u001b[39;00m\u001b[38;5;124m object has no attribute \u001b[39m\u001b[38;5;132;01m{\u001b[39;00mattribute\u001b[38;5;132;01m!r}\u001b[39;00m\u001b[38;5;124m\"\u001b[39m\n\u001b[1;32m     39\u001b[0m )\n",
      "\u001b[0;31mAttributeError\u001b[0m: 'Submission' object has no attribute 'comment'"
     ]
    }
   ],
   "source": [
    "data = data_fetch(sub_red_lst = \"cscareerquestions+Jobs\", \n",
    "                                             limit = 2000, \n",
    "                                             time_filter = \"all\")"
   ]
  },
  {
   "cell_type": "markdown",
   "id": "95991da5",
   "metadata": {},
   "source": [
    "# Part III: Export to CSV File"
   ]
  },
  {
   "cell_type": "code",
   "execution_count": null,
   "id": "b3c53227",
   "metadata": {},
   "outputs": [],
   "source": [
    "data.to_csv(\"DATA.csv\", header=True, index=False)"
   ]
  }
 ],
 "metadata": {
  "kernelspec": {
   "display_name": "Python 3 (ipykernel)",
   "language": "python",
   "name": "python3"
  },
  "language_info": {
   "codemirror_mode": {
    "name": "ipython",
    "version": 3
   },
   "file_extension": ".py",
   "mimetype": "text/x-python",
   "name": "python",
   "nbconvert_exporter": "python",
   "pygments_lexer": "ipython3",
   "version": "3.10.9"
  }
 },
 "nbformat": 4,
 "nbformat_minor": 5
}
