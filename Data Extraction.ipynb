{
 "cells": [
  {
   "cell_type": "markdown",
   "id": "6f334150",
   "metadata": {},
   "source": [
    "## Part I: Data Extraction – Posts (i.e, ID, Comments, Title, etc.)"
   ]
  },
  {
   "cell_type": "code",
   "execution_count": null,
   "id": "f335c95c-4656-49f9-bcb3-5baf37ac00e1",
   "metadata": {},
   "outputs": [],
   "source": [
    "import pandas as pd\n",
    "import praw"
   ]
  },
  {
   "cell_type": "code",
   "execution_count": null,
   "id": "bc43c121",
   "metadata": {},
   "outputs": [],
   "source": [
    "def posts(sub_red_lst=\"Jobs\", limit=None, time_filter=\"all\"):\n",
    "    reddit = praw.Reddit(client_id=\"HB-6S3t-mU0H4JnFryAcAA\", client_secret=\"iOPDBfwO35IWt4Wd3lbPTbKbZlS0DQ\",\n",
    "                         redirect_uri=\"http://localhost:8080\", user_agent=\"Poliscimania\")\n",
    "\n",
    "    data = reddit.subreddit(sub_red_lst).top(time_filter=\"all\", limit=1000)\n",
    "\n",
    "    post_data = []\n",
    "\n",
    "    for p in data:\n",
    "        post_data.append({\"ID\": p.id,\n",
    "                          \"Subreddit\": p.subreddit,\n",
    "                          \"Title\": p.title,\n",
    "                          \"Upvote\": p.upvote_ratio,\n",
    "                          \"Score\": p.score,\n",
    "                          \"Comments\": p.comments,\n",
    "                          \"Edited\": p.edited,\n",
    "                          \"URL\": p.url,\n",
    "                          \"Flair Text\": p.link_flair_text,\n",
    "                          \"Nums of Comment\": p.num_comments})\n",
    "\n",
    "    return pd.DataFrame(post_data)\n"
   ]
  },
  {
   "cell_type": "code",
   "execution_count": null,
   "id": "75605723",
   "metadata": {},
   "outputs": [],
   "source": [
    "post_data = posts(sub_red_lst=\"datascience+cscareerquestions+Jobs\", limit=3000, time_filter=\"all\")\n",
    "# post_data.to_csv(\"SUBRED_DATA.csv\", header=True, index=False)\n",
    "post_data"
   ]
  },
  {
   "cell_type": "markdown",
   "id": "5c486512",
   "metadata": {},
   "source": [
    "## Part II: Data Extraction (i.e, ID and Comments)"
   ]
  },
  {
   "cell_type": "code",
   "execution_count": null,
   "id": "9507d2c9",
   "metadata": {},
   "outputs": [],
   "source": [
    "comments_lst = []\n",
    "\n",
    "reddit = praw.Reddit(client_id=\"HB-6S3t-mU0H4JnFryAcAA\", client_secret=\"iOPDBfwO35IWt4Wd3lbPTbKbZlS0DQ\",\n",
    "                     redirect_uri=\"http://localhost:8080\", user_agent=\"Poliscimania\")\n",
    "\n",
    "for post in post_data[\"ID\"]:\n",
    "    sub = reddit.submission(post)\n",
    "    \n",
    "    sub.comments.replace_more(limit = None)\n",
    "    for c in sub.comments.list():\n",
    "        comments_lst.append({\"ID\" : post, \"Comments\" : c.body})\n",
    "\n",
    "comments_data = pd.Dataframe(comments)\n",
    "comments_data.to_csv(\"COMMENTS_DATA.csv\", header = True, index = False)\n",
    "comments_data"
   ]
  },
  {
   "cell_type": "code",
   "execution_count": null,
   "id": "aba82d92",
   "metadata": {},
   "outputs": [],
   "source": []
  }
 ],
 "metadata": {
  "kernelspec": {
   "display_name": "Python 3 (ipykernel)",
   "language": "python",
   "name": "python3"
  },
  "language_info": {
   "codemirror_mode": {
    "name": "ipython",
    "version": 3
   },
   "file_extension": ".py",
   "mimetype": "text/x-python",
   "name": "python",
   "nbconvert_exporter": "python",
   "pygments_lexer": "ipython3",
   "version": "3.10.9"
  }
 },
 "nbformat": 4,
 "nbformat_minor": 5
}
